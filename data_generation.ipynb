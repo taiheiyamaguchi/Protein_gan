{
 "cells": [
  {
   "cell_type": "markdown",
   "metadata": {},
   "source": [
    "# SCOPのテキストをダウンロード"
   ]
  },
  {
   "cell_type": "code",
   "execution_count": null,
   "metadata": {},
   "outputs": [],
   "source": [
    "import urllib.request\n",
    "import os\n",
    "\n",
    "scop = \"http://scop.mrc-lmb.cam.ac.uk/files/scop-cla-latest.txt\"\n",
    "with urllib.request.urlopen(scop) as content:\n",
    "    contents = content.read()\n",
    "    html = contents.decode()\n",
    "\n",
    "path = \"./data/database\"\n",
    "with open(path, \"w\") as f:\n",
    "    f.write(html)"
   ]
  },
  {
   "cell_type": "markdown",
   "metadata": {},
   "source": []
  },
  {
   "cell_type": "markdown",
   "metadata": {},
   "source": [
    "# コンタクトマップ作成"
   ]
  },
  {
   "cell_type": "code",
   "execution_count": null,
   "metadata": {},
   "outputs": [],
   "source": [
    "import urllib.request, urllib.error\n",
    "import sys\n",
    "import os\n",
    "import numpy as np\n",
    "from scipy.spatial import distance\n",
    "import matplotlib.pyplot as plt\n",
    "from tqdm import tqdm\n",
    "scop = \"./data/database\"\n",
    "with open(scop) as f:\n",
    "    slst = f.read().splitlines()\n",
    "\n",
    "for i in tqdm(slst):\n",
    "    if i[0] == \"#\":\n",
    "        continue\n",
    "    line = list(i.split())\n",
    "    name = line[1]   #nameはPDBのID\n",
    "    area = line[2]\n",
    "    if \"A\" in area[3:] or 'B' in area[3:] or 'S' in area[3:] or'I' in area[3:]or 'P'in area[3:]:\n",
    "        continue #アルファベットが2桁の場合はPDBフォーマットが崩れる\n",
    "    if \",\" in area:\n",
    "        continue #領域が複数ある場合は排除\n",
    "    chain_num = area.index(\":\")\n",
    "    chain = area[:chain_num]   #chainを得る\n",
    "    st_num = area[3:].index(\"-\") #残基番号がマイナスの場合を考慮するため\n",
    "    st_num += 3\n",
    "    st = int(area[chain_num+1:st_num])\n",
    "    end = int(area[st_num+1:])\n",
    "    if end > 1000:\n",
    "        continue #1000以上はPDBフォーマットが崩れる\n",
    "    length = end - st + 1    #配列の長さ\n",
    "    if length < 128:\n",
    "        continue\n",
    "    #pdbファイルを保存\n",
    "    url = \"https://files.rcsb.org/download/\" + name + \".pdb\"\n",
    "    path_p = \"./pdb/\" + name + \".pdb\" #pdbファイルの保存先\n",
    "    if not (os.path.exists(path_p)):   \n",
    "        try:\n",
    "            with urllib.request.urlopen(url) as content:\n",
    "                contents = content.read()\n",
    "                html = contents.decode()\n",
    "            with open(path_p, \"w\") as f:\n",
    "                f.write(html)\n",
    "        except:\n",
    "            continue\n",
    "    with open(path_p) as f:\n",
    "            lst = f.read().splitlines()\n",
    "    CA_list = [[0.0001] * 3 for _ in range(length)]\n",
    "    for j in (lst):\n",
    "        pdb_line = list(j.split())\n",
    "        if len(pdb_line) == 12:\n",
    "            if (pdb_line[0] == 'ATOM' or pdb_line[0] == 'HETATM') and pdb_line[4] == chain:\n",
    "                try:\n",
    "                    int(pdb_line[5])\n",
    "                except:\n",
    "                    continue\n",
    "                if int(pdb_line[5]) < st:\n",
    "                    continue #SCOPの範囲に満たないものを排除\n",
    "                if int(pdb_line[5]) > end:\n",
    "                    break #ミッシング残基があり、SCOPの範囲を越えてしまった場合\n",
    "                if pdb_line[2] == 'CA':\n",
    "                    CA_list[int(pdb_line[5])-st] = pdb_line[6:9]\n",
    "                    if int(pdb_line[5])==end:\n",
    "                        break\n",
    "    protein = False #構造ドメインを距離行列にできるかのチェック\n",
    "    for k in range(length//128):\n",
    "        CA = []\n",
    "        for l in range(128):\n",
    "            CA.append(CA_list[l+k*128])\n",
    "        if [0.0001]*3 in CA: #ミッシング残基がある場合は排除\n",
    "            continue\n",
    "        CA = np.array(CA)\n",
    "        dist = distance.cdist(CA, CA, metric='euclidean')\n",
    "        dist = np.array(dist)\n",
    "        plt.imshow(-dist)\n",
    "        np.save(\"./dataset/\"+name+chain+str(st)+str(k), dist)"
   ]
  }
 ],
 "metadata": {
  "kernelspec": {
   "display_name": "Python 3",
   "language": "python",
   "name": "python3"
  },
  "language_info": {
   "codemirror_mode": {
    "name": "ipython",
    "version": 3
   },
   "file_extension": ".py",
   "mimetype": "text/x-python",
   "name": "python",
   "nbconvert_exporter": "python",
   "pygments_lexer": "ipython3",
   "version": "3.10.6 (main, Aug  1 2022, 20:38:21) [GCC 5.4.0 20160609]"
  },
  "orig_nbformat": 2,
  "vscode": {
   "interpreter": {
    "hash": "7d6993cb2f9ce9a59d5d7380609d9cb5192a9dedd2735a011418ad9e827eb538"
   }
  }
 },
 "nbformat": 4,
 "nbformat_minor": 2
}
